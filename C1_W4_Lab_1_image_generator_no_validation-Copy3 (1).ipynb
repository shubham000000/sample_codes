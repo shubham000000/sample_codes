{
 "cells": [
  {
   "cell_type": "markdown",
   "metadata": {
    "id": "5M0E2zlTZI7g"
   },
   "source": [
    "<a href=\"https://colab.research.google.com/github/https-deeplearning-ai/tensorflow-1-public/blob/master/C1/W4/ungraded_labs/C1_W4_Lab_1_image_generator_no_validation.ipynb\" target=\"_parent\"><img src=\"https://colab.research.google.com/assets/colab-badge.svg\" alt=\"Open In Colab\"/></a>"
   ]
  },
  {
   "cell_type": "markdown",
   "metadata": {
    "id": "-74XLLwqPlcw"
   },
   "source": [
    "# Ungraded Lab: Training with ImageDataGenerator\n",
    "\n",
    "In this lab, you will build a train a model on the [Horses or Humans](https://www.tensorflow.org/datasets/catalog/horses_or_humans) dataset. This contains over a thousand images of horses and humans with varying poses and filesizes. You will use the [ImageDataGenerator](https://www.tensorflow.org/api_docs/python/tf/keras/preprocessing/image/ImageDataGenerator) class to prepare this dataset so it can be fed to a convolutional neural network.\n",
    "\n",
    "**IMPORTANT NOTE:** This notebook is designed to run as a Colab. Running it on your local machine might result in some of the code blocks throwing errors."
   ]
  },
  {
   "cell_type": "markdown",
   "metadata": {
    "id": "qYFguQkJvpV3"
   },
   "source": [
    "Run the code below to download the compressed dataset `horse-or-human.zip`."
   ]
  },
  {
   "cell_type": "code",
   "execution_count": 1,
   "metadata": {},
   "outputs": [],
   "source": [
    "#!pip install keras"
   ]
  },
  {
   "cell_type": "code",
   "execution_count": 25,
   "metadata": {
    "id": "RXZT2UsyIVe_"
   },
   "outputs": [],
   "source": [
    "from keras.models import Sequential\n",
    "from keras.layers import Dense, Dropout, Flatten\n",
    "from keras.layers import Conv1D, MaxPooling1D\n",
    "from keras.utils import to_categorical\n",
    "from keras.preprocessing import image\n",
    "import numpy as np\n",
    "import pandas as pd\n",
    "import matplotlib.pyplot as plt\n",
    "from sklearn.model_selection import train_test_split\n",
    "from keras.utils import to_categorical\n",
    "from sklearn.metrics import accuracy_score\n",
    "from tqdm import tqdm\n",
    "from numpy.random import RandomState\n",
    "from keras import backend as K\n",
    "import tensorflow as tf\n",
    "import numpy as np\n",
    "from tensorflow import keras\n",
    "import csv"
   ]
  },
  {
   "cell_type": "code",
   "execution_count": 26,
   "metadata": {},
   "outputs": [],
   "source": [
    "dataframe = pd.read_csv('DR_BH_data_merged_for_viet.csv')"
   ]
  },
  {
   "cell_type": "code",
   "execution_count": 27,
   "metadata": {},
   "outputs": [
    {
     "data": {
      "text/html": [
       "<div>\n",
       "<style scoped>\n",
       "    .dataframe tbody tr th:only-of-type {\n",
       "        vertical-align: middle;\n",
       "    }\n",
       "\n",
       "    .dataframe tbody tr th {\n",
       "        vertical-align: top;\n",
       "    }\n",
       "\n",
       "    .dataframe thead th {\n",
       "        text-align: right;\n",
       "    }\n",
       "</style>\n",
       "<table border=\"1\" class=\"dataframe\">\n",
       "  <thead>\n",
       "    <tr style=\"text-align: right;\">\n",
       "      <th></th>\n",
       "      <th>Screening_No</th>\n",
       "      <th>Age</th>\n",
       "      <th>Height</th>\n",
       "      <th>Weight</th>\n",
       "      <th>WC</th>\n",
       "      <th>BMI</th>\n",
       "      <th>SBP</th>\n",
       "      <th>DBP</th>\n",
       "      <th>Glucose</th>\n",
       "      <th>HbA1c</th>\n",
       "      <th>Sex</th>\n",
       "      <th>DR_diagnosis_status</th>\n",
       "    </tr>\n",
       "  </thead>\n",
       "  <tbody>\n",
       "    <tr>\n",
       "      <th>0</th>\n",
       "      <td>D-001</td>\n",
       "      <td>66</td>\n",
       "      <td>157.8</td>\n",
       "      <td>70.7</td>\n",
       "      <td>97.2</td>\n",
       "      <td>28.39</td>\n",
       "      <td>130</td>\n",
       "      <td>84</td>\n",
       "      <td>171</td>\n",
       "      <td>7.5</td>\n",
       "      <td>M</td>\n",
       "      <td>noDR</td>\n",
       "    </tr>\n",
       "    <tr>\n",
       "      <th>1</th>\n",
       "      <td>D-002</td>\n",
       "      <td>51</td>\n",
       "      <td>171.9</td>\n",
       "      <td>65.1</td>\n",
       "      <td>89.2</td>\n",
       "      <td>22.03</td>\n",
       "      <td>140</td>\n",
       "      <td>85</td>\n",
       "      <td>130</td>\n",
       "      <td>6.0</td>\n",
       "      <td>M</td>\n",
       "      <td>noDR</td>\n",
       "    </tr>\n",
       "    <tr>\n",
       "      <th>2</th>\n",
       "      <td>D-003</td>\n",
       "      <td>46</td>\n",
       "      <td>174.6</td>\n",
       "      <td>60.1</td>\n",
       "      <td>81.1</td>\n",
       "      <td>19.71</td>\n",
       "      <td>122</td>\n",
       "      <td>75</td>\n",
       "      <td>242</td>\n",
       "      <td>11.2</td>\n",
       "      <td>M</td>\n",
       "      <td>DR</td>\n",
       "    </tr>\n",
       "    <tr>\n",
       "      <th>3</th>\n",
       "      <td>D-004</td>\n",
       "      <td>60</td>\n",
       "      <td>169.7</td>\n",
       "      <td>62.7</td>\n",
       "      <td>75.5</td>\n",
       "      <td>21.77</td>\n",
       "      <td>117</td>\n",
       "      <td>69</td>\n",
       "      <td>117</td>\n",
       "      <td>7.9</td>\n",
       "      <td>M</td>\n",
       "      <td>noDR</td>\n",
       "    </tr>\n",
       "    <tr>\n",
       "      <th>4</th>\n",
       "      <td>D-005</td>\n",
       "      <td>45</td>\n",
       "      <td>160.0</td>\n",
       "      <td>73.5</td>\n",
       "      <td>89.5</td>\n",
       "      <td>28.71</td>\n",
       "      <td>144</td>\n",
       "      <td>85</td>\n",
       "      <td>134</td>\n",
       "      <td>7.5</td>\n",
       "      <td>F</td>\n",
       "      <td>noDR</td>\n",
       "    </tr>\n",
       "  </tbody>\n",
       "</table>\n",
       "</div>"
      ],
      "text/plain": [
       "  Screening_No  Age  Height  Weight    WC    BMI  SBP  DBP  Glucose  HbA1c  \\\n",
       "0        D-001   66   157.8    70.7  97.2  28.39  130   84      171    7.5   \n",
       "1        D-002   51   171.9    65.1  89.2  22.03  140   85      130    6.0   \n",
       "2        D-003   46   174.6    60.1  81.1  19.71  122   75      242   11.2   \n",
       "3        D-004   60   169.7    62.7  75.5  21.77  117   69      117    7.9   \n",
       "4        D-005   45   160.0    73.5  89.5  28.71  144   85      134    7.5   \n",
       "\n",
       "  Sex DR_diagnosis_status  \n",
       "0   M                noDR  \n",
       "1   M                noDR  \n",
       "2   M                  DR  \n",
       "3   M                noDR  \n",
       "4   F                noDR  "
      ]
     },
     "execution_count": 27,
     "metadata": {},
     "output_type": "execute_result"
    }
   ],
   "source": [
    "dataframe.head()"
   ]
  },
  {
   "cell_type": "code",
   "execution_count": 28,
   "metadata": {},
   "outputs": [],
   "source": [
    "dataframe_new = dataframe.drop('Screening_No', axis = 1)"
   ]
  },
  {
   "cell_type": "code",
   "execution_count": 29,
   "metadata": {},
   "outputs": [
    {
     "data": {
      "text/html": [
       "<div>\n",
       "<style scoped>\n",
       "    .dataframe tbody tr th:only-of-type {\n",
       "        vertical-align: middle;\n",
       "    }\n",
       "\n",
       "    .dataframe tbody tr th {\n",
       "        vertical-align: top;\n",
       "    }\n",
       "\n",
       "    .dataframe thead th {\n",
       "        text-align: right;\n",
       "    }\n",
       "</style>\n",
       "<table border=\"1\" class=\"dataframe\">\n",
       "  <thead>\n",
       "    <tr style=\"text-align: right;\">\n",
       "      <th></th>\n",
       "      <th>Age</th>\n",
       "      <th>Height</th>\n",
       "      <th>Weight</th>\n",
       "      <th>WC</th>\n",
       "      <th>BMI</th>\n",
       "      <th>SBP</th>\n",
       "      <th>DBP</th>\n",
       "      <th>Glucose</th>\n",
       "      <th>HbA1c</th>\n",
       "      <th>Sex</th>\n",
       "      <th>DR_diagnosis_status</th>\n",
       "    </tr>\n",
       "  </thead>\n",
       "  <tbody>\n",
       "    <tr>\n",
       "      <th>0</th>\n",
       "      <td>66</td>\n",
       "      <td>157.8</td>\n",
       "      <td>70.7</td>\n",
       "      <td>97.2</td>\n",
       "      <td>28.39</td>\n",
       "      <td>130</td>\n",
       "      <td>84</td>\n",
       "      <td>171</td>\n",
       "      <td>7.5</td>\n",
       "      <td>M</td>\n",
       "      <td>noDR</td>\n",
       "    </tr>\n",
       "    <tr>\n",
       "      <th>1</th>\n",
       "      <td>51</td>\n",
       "      <td>171.9</td>\n",
       "      <td>65.1</td>\n",
       "      <td>89.2</td>\n",
       "      <td>22.03</td>\n",
       "      <td>140</td>\n",
       "      <td>85</td>\n",
       "      <td>130</td>\n",
       "      <td>6.0</td>\n",
       "      <td>M</td>\n",
       "      <td>noDR</td>\n",
       "    </tr>\n",
       "    <tr>\n",
       "      <th>2</th>\n",
       "      <td>46</td>\n",
       "      <td>174.6</td>\n",
       "      <td>60.1</td>\n",
       "      <td>81.1</td>\n",
       "      <td>19.71</td>\n",
       "      <td>122</td>\n",
       "      <td>75</td>\n",
       "      <td>242</td>\n",
       "      <td>11.2</td>\n",
       "      <td>M</td>\n",
       "      <td>DR</td>\n",
       "    </tr>\n",
       "    <tr>\n",
       "      <th>3</th>\n",
       "      <td>60</td>\n",
       "      <td>169.7</td>\n",
       "      <td>62.7</td>\n",
       "      <td>75.5</td>\n",
       "      <td>21.77</td>\n",
       "      <td>117</td>\n",
       "      <td>69</td>\n",
       "      <td>117</td>\n",
       "      <td>7.9</td>\n",
       "      <td>M</td>\n",
       "      <td>noDR</td>\n",
       "    </tr>\n",
       "    <tr>\n",
       "      <th>4</th>\n",
       "      <td>45</td>\n",
       "      <td>160.0</td>\n",
       "      <td>73.5</td>\n",
       "      <td>89.5</td>\n",
       "      <td>28.71</td>\n",
       "      <td>144</td>\n",
       "      <td>85</td>\n",
       "      <td>134</td>\n",
       "      <td>7.5</td>\n",
       "      <td>F</td>\n",
       "      <td>noDR</td>\n",
       "    </tr>\n",
       "  </tbody>\n",
       "</table>\n",
       "</div>"
      ],
      "text/plain": [
       "   Age  Height  Weight    WC    BMI  SBP  DBP  Glucose  HbA1c Sex  \\\n",
       "0   66   157.8    70.7  97.2  28.39  130   84      171    7.5   M   \n",
       "1   51   171.9    65.1  89.2  22.03  140   85      130    6.0   M   \n",
       "2   46   174.6    60.1  81.1  19.71  122   75      242   11.2   M   \n",
       "3   60   169.7    62.7  75.5  21.77  117   69      117    7.9   M   \n",
       "4   45   160.0    73.5  89.5  28.71  144   85      134    7.5   F   \n",
       "\n",
       "  DR_diagnosis_status  \n",
       "0                noDR  \n",
       "1                noDR  \n",
       "2                  DR  \n",
       "3                noDR  \n",
       "4                noDR  "
      ]
     },
     "execution_count": 29,
     "metadata": {},
     "output_type": "execute_result"
    }
   ],
   "source": [
    "dataframe_new.head()"
   ]
  },
  {
   "cell_type": "code",
   "execution_count": 30,
   "metadata": {},
   "outputs": [
    {
     "data": {
      "text/plain": [
       "Age                      int64\n",
       "Height                 float64\n",
       "Weight                 float64\n",
       "WC                     float64\n",
       "BMI                    float64\n",
       "SBP                      int64\n",
       "DBP                      int64\n",
       "Glucose                  int64\n",
       "HbA1c                  float64\n",
       "Sex                     object\n",
       "DR_diagnosis_status     object\n",
       "dtype: object"
      ]
     },
     "execution_count": 30,
     "metadata": {},
     "output_type": "execute_result"
    }
   ],
   "source": [
    "dataframe_new.dtypes"
   ]
  },
  {
   "cell_type": "code",
   "execution_count": 31,
   "metadata": {},
   "outputs": [
    {
     "data": {
      "text/html": [
       "<div>\n",
       "<style scoped>\n",
       "    .dataframe tbody tr th:only-of-type {\n",
       "        vertical-align: middle;\n",
       "    }\n",
       "\n",
       "    .dataframe tbody tr th {\n",
       "        vertical-align: top;\n",
       "    }\n",
       "\n",
       "    .dataframe thead th {\n",
       "        text-align: right;\n",
       "    }\n",
       "</style>\n",
       "<table border=\"1\" class=\"dataframe\">\n",
       "  <thead>\n",
       "    <tr style=\"text-align: right;\">\n",
       "      <th></th>\n",
       "      <th>Age</th>\n",
       "      <th>Height</th>\n",
       "      <th>Weight</th>\n",
       "      <th>WC</th>\n",
       "      <th>BMI</th>\n",
       "      <th>SBP</th>\n",
       "      <th>DBP</th>\n",
       "      <th>Glucose</th>\n",
       "      <th>HbA1c</th>\n",
       "      <th>Sex</th>\n",
       "      <th>DR_diagnosis_status</th>\n",
       "    </tr>\n",
       "  </thead>\n",
       "  <tbody>\n",
       "    <tr>\n",
       "      <th>0</th>\n",
       "      <td>66</td>\n",
       "      <td>157.8</td>\n",
       "      <td>70.7</td>\n",
       "      <td>97.2</td>\n",
       "      <td>28.39</td>\n",
       "      <td>130</td>\n",
       "      <td>84</td>\n",
       "      <td>171</td>\n",
       "      <td>7.5</td>\n",
       "      <td>M</td>\n",
       "      <td>noDR</td>\n",
       "    </tr>\n",
       "    <tr>\n",
       "      <th>1</th>\n",
       "      <td>51</td>\n",
       "      <td>171.9</td>\n",
       "      <td>65.1</td>\n",
       "      <td>89.2</td>\n",
       "      <td>22.03</td>\n",
       "      <td>140</td>\n",
       "      <td>85</td>\n",
       "      <td>130</td>\n",
       "      <td>6.0</td>\n",
       "      <td>M</td>\n",
       "      <td>noDR</td>\n",
       "    </tr>\n",
       "    <tr>\n",
       "      <th>2</th>\n",
       "      <td>46</td>\n",
       "      <td>174.6</td>\n",
       "      <td>60.1</td>\n",
       "      <td>81.1</td>\n",
       "      <td>19.71</td>\n",
       "      <td>122</td>\n",
       "      <td>75</td>\n",
       "      <td>242</td>\n",
       "      <td>11.2</td>\n",
       "      <td>M</td>\n",
       "      <td>DR</td>\n",
       "    </tr>\n",
       "    <tr>\n",
       "      <th>3</th>\n",
       "      <td>60</td>\n",
       "      <td>169.7</td>\n",
       "      <td>62.7</td>\n",
       "      <td>75.5</td>\n",
       "      <td>21.77</td>\n",
       "      <td>117</td>\n",
       "      <td>69</td>\n",
       "      <td>117</td>\n",
       "      <td>7.9</td>\n",
       "      <td>M</td>\n",
       "      <td>noDR</td>\n",
       "    </tr>\n",
       "    <tr>\n",
       "      <th>4</th>\n",
       "      <td>45</td>\n",
       "      <td>160.0</td>\n",
       "      <td>73.5</td>\n",
       "      <td>89.5</td>\n",
       "      <td>28.71</td>\n",
       "      <td>144</td>\n",
       "      <td>85</td>\n",
       "      <td>134</td>\n",
       "      <td>7.5</td>\n",
       "      <td>F</td>\n",
       "      <td>noDR</td>\n",
       "    </tr>\n",
       "    <tr>\n",
       "      <th>...</th>\n",
       "      <td>...</td>\n",
       "      <td>...</td>\n",
       "      <td>...</td>\n",
       "      <td>...</td>\n",
       "      <td>...</td>\n",
       "      <td>...</td>\n",
       "      <td>...</td>\n",
       "      <td>...</td>\n",
       "      <td>...</td>\n",
       "      <td>...</td>\n",
       "      <td>...</td>\n",
       "    </tr>\n",
       "    <tr>\n",
       "      <th>257</th>\n",
       "      <td>69</td>\n",
       "      <td>152.9</td>\n",
       "      <td>72.3</td>\n",
       "      <td>88.0</td>\n",
       "      <td>30.93</td>\n",
       "      <td>139</td>\n",
       "      <td>85</td>\n",
       "      <td>130</td>\n",
       "      <td>7.7</td>\n",
       "      <td>F</td>\n",
       "      <td>noDR</td>\n",
       "    </tr>\n",
       "    <tr>\n",
       "      <th>258</th>\n",
       "      <td>49</td>\n",
       "      <td>150.9</td>\n",
       "      <td>55.4</td>\n",
       "      <td>79.0</td>\n",
       "      <td>24.33</td>\n",
       "      <td>124</td>\n",
       "      <td>76</td>\n",
       "      <td>236</td>\n",
       "      <td>8.9</td>\n",
       "      <td>F</td>\n",
       "      <td>DR</td>\n",
       "    </tr>\n",
       "    <tr>\n",
       "      <th>259</th>\n",
       "      <td>56</td>\n",
       "      <td>163.4</td>\n",
       "      <td>79.5</td>\n",
       "      <td>86.0</td>\n",
       "      <td>29.78</td>\n",
       "      <td>150</td>\n",
       "      <td>79</td>\n",
       "      <td>199</td>\n",
       "      <td>8.1</td>\n",
       "      <td>M</td>\n",
       "      <td>noDR</td>\n",
       "    </tr>\n",
       "    <tr>\n",
       "      <th>260</th>\n",
       "      <td>73</td>\n",
       "      <td>150.6</td>\n",
       "      <td>55.4</td>\n",
       "      <td>67.0</td>\n",
       "      <td>24.43</td>\n",
       "      <td>120</td>\n",
       "      <td>70</td>\n",
       "      <td>131</td>\n",
       "      <td>7.2</td>\n",
       "      <td>F</td>\n",
       "      <td>noDR</td>\n",
       "    </tr>\n",
       "    <tr>\n",
       "      <th>261</th>\n",
       "      <td>77</td>\n",
       "      <td>164.9</td>\n",
       "      <td>79.4</td>\n",
       "      <td>80.0</td>\n",
       "      <td>29.20</td>\n",
       "      <td>143</td>\n",
       "      <td>70</td>\n",
       "      <td>124</td>\n",
       "      <td>6.3</td>\n",
       "      <td>M</td>\n",
       "      <td>DR</td>\n",
       "    </tr>\n",
       "  </tbody>\n",
       "</table>\n",
       "<p>262 rows × 11 columns</p>\n",
       "</div>"
      ],
      "text/plain": [
       "     Age  Height  Weight    WC    BMI  SBP  DBP  Glucose  HbA1c Sex  \\\n",
       "0     66   157.8    70.7  97.2  28.39  130   84      171    7.5   M   \n",
       "1     51   171.9    65.1  89.2  22.03  140   85      130    6.0   M   \n",
       "2     46   174.6    60.1  81.1  19.71  122   75      242   11.2   M   \n",
       "3     60   169.7    62.7  75.5  21.77  117   69      117    7.9   M   \n",
       "4     45   160.0    73.5  89.5  28.71  144   85      134    7.5   F   \n",
       "..   ...     ...     ...   ...    ...  ...  ...      ...    ...  ..   \n",
       "257   69   152.9    72.3  88.0  30.93  139   85      130    7.7   F   \n",
       "258   49   150.9    55.4  79.0  24.33  124   76      236    8.9   F   \n",
       "259   56   163.4    79.5  86.0  29.78  150   79      199    8.1   M   \n",
       "260   73   150.6    55.4  67.0  24.43  120   70      131    7.2   F   \n",
       "261   77   164.9    79.4  80.0  29.20  143   70      124    6.3   M   \n",
       "\n",
       "    DR_diagnosis_status  \n",
       "0                  noDR  \n",
       "1                  noDR  \n",
       "2                    DR  \n",
       "3                  noDR  \n",
       "4                  noDR  \n",
       "..                  ...  \n",
       "257                noDR  \n",
       "258                  DR  \n",
       "259                noDR  \n",
       "260                noDR  \n",
       "261                  DR  \n",
       "\n",
       "[262 rows x 11 columns]"
      ]
     },
     "execution_count": 31,
     "metadata": {},
     "output_type": "execute_result"
    }
   ],
   "source": [
    "dataframe_new"
   ]
  },
  {
   "cell_type": "code",
   "execution_count": 32,
   "metadata": {},
   "outputs": [],
   "source": [
    "# replacing values\n",
    "dataframe_new['Sex'].replace(['M', 'F'],[0, 1], inplace=True)"
   ]
  },
  {
   "cell_type": "code",
   "execution_count": 33,
   "metadata": {},
   "outputs": [],
   "source": [
    "# replacing values\n",
    "dataframe_new['DR_diagnosis_status'].replace(['noDR', 'DR'],[0, 1], inplace=True)"
   ]
  },
  {
   "cell_type": "code",
   "execution_count": 34,
   "metadata": {},
   "outputs": [
    {
     "data": {
      "text/html": [
       "<div>\n",
       "<style scoped>\n",
       "    .dataframe tbody tr th:only-of-type {\n",
       "        vertical-align: middle;\n",
       "    }\n",
       "\n",
       "    .dataframe tbody tr th {\n",
       "        vertical-align: top;\n",
       "    }\n",
       "\n",
       "    .dataframe thead th {\n",
       "        text-align: right;\n",
       "    }\n",
       "</style>\n",
       "<table border=\"1\" class=\"dataframe\">\n",
       "  <thead>\n",
       "    <tr style=\"text-align: right;\">\n",
       "      <th></th>\n",
       "      <th>Age</th>\n",
       "      <th>Height</th>\n",
       "      <th>Weight</th>\n",
       "      <th>WC</th>\n",
       "      <th>BMI</th>\n",
       "      <th>SBP</th>\n",
       "      <th>DBP</th>\n",
       "      <th>Glucose</th>\n",
       "      <th>HbA1c</th>\n",
       "      <th>Sex</th>\n",
       "      <th>DR_diagnosis_status</th>\n",
       "    </tr>\n",
       "  </thead>\n",
       "  <tbody>\n",
       "    <tr>\n",
       "      <th>0</th>\n",
       "      <td>66</td>\n",
       "      <td>157.8</td>\n",
       "      <td>70.7</td>\n",
       "      <td>97.2</td>\n",
       "      <td>28.39</td>\n",
       "      <td>130</td>\n",
       "      <td>84</td>\n",
       "      <td>171</td>\n",
       "      <td>7.5</td>\n",
       "      <td>0</td>\n",
       "      <td>0</td>\n",
       "    </tr>\n",
       "    <tr>\n",
       "      <th>1</th>\n",
       "      <td>51</td>\n",
       "      <td>171.9</td>\n",
       "      <td>65.1</td>\n",
       "      <td>89.2</td>\n",
       "      <td>22.03</td>\n",
       "      <td>140</td>\n",
       "      <td>85</td>\n",
       "      <td>130</td>\n",
       "      <td>6.0</td>\n",
       "      <td>0</td>\n",
       "      <td>0</td>\n",
       "    </tr>\n",
       "    <tr>\n",
       "      <th>2</th>\n",
       "      <td>46</td>\n",
       "      <td>174.6</td>\n",
       "      <td>60.1</td>\n",
       "      <td>81.1</td>\n",
       "      <td>19.71</td>\n",
       "      <td>122</td>\n",
       "      <td>75</td>\n",
       "      <td>242</td>\n",
       "      <td>11.2</td>\n",
       "      <td>0</td>\n",
       "      <td>1</td>\n",
       "    </tr>\n",
       "    <tr>\n",
       "      <th>3</th>\n",
       "      <td>60</td>\n",
       "      <td>169.7</td>\n",
       "      <td>62.7</td>\n",
       "      <td>75.5</td>\n",
       "      <td>21.77</td>\n",
       "      <td>117</td>\n",
       "      <td>69</td>\n",
       "      <td>117</td>\n",
       "      <td>7.9</td>\n",
       "      <td>0</td>\n",
       "      <td>0</td>\n",
       "    </tr>\n",
       "    <tr>\n",
       "      <th>4</th>\n",
       "      <td>45</td>\n",
       "      <td>160.0</td>\n",
       "      <td>73.5</td>\n",
       "      <td>89.5</td>\n",
       "      <td>28.71</td>\n",
       "      <td>144</td>\n",
       "      <td>85</td>\n",
       "      <td>134</td>\n",
       "      <td>7.5</td>\n",
       "      <td>1</td>\n",
       "      <td>0</td>\n",
       "    </tr>\n",
       "  </tbody>\n",
       "</table>\n",
       "</div>"
      ],
      "text/plain": [
       "   Age  Height  Weight    WC    BMI  SBP  DBP  Glucose  HbA1c  Sex  \\\n",
       "0   66   157.8    70.7  97.2  28.39  130   84      171    7.5    0   \n",
       "1   51   171.9    65.1  89.2  22.03  140   85      130    6.0    0   \n",
       "2   46   174.6    60.1  81.1  19.71  122   75      242   11.2    0   \n",
       "3   60   169.7    62.7  75.5  21.77  117   69      117    7.9    0   \n",
       "4   45   160.0    73.5  89.5  28.71  144   85      134    7.5    1   \n",
       "\n",
       "   DR_diagnosis_status  \n",
       "0                    0  \n",
       "1                    0  \n",
       "2                    1  \n",
       "3                    0  \n",
       "4                    0  "
      ]
     },
     "execution_count": 34,
     "metadata": {},
     "output_type": "execute_result"
    }
   ],
   "source": [
    "dataframe_new.head()"
   ]
  },
  {
   "cell_type": "code",
   "execution_count": 35,
   "metadata": {},
   "outputs": [],
   "source": [
    "# Reshape and normalize training data\n",
    "X = dataframe_new.drop('DR_diagnosis_status', axis =1).values\n",
    "\n",
    "X_train = X / 255.0\n",
    "\n",
    "y_train = dataframe_new.DR_diagnosis_status"
   ]
  },
  {
   "cell_type": "code",
   "execution_count": null,
   "metadata": {},
   "outputs": [],
   "source": []
  },
  {
   "cell_type": "code",
   "execution_count": 290,
   "metadata": {},
   "outputs": [],
   "source": [
    "#!pip install np_utils"
   ]
  },
  {
   "cell_type": "code",
   "execution_count": 13,
   "metadata": {},
   "outputs": [],
   "source": [
    "# from tensorflow.keras.utils import to_categorical # convert to one-hot-encoding\n",
    "\n",
    "# y_train = to_categorical(y_train, num_classes = 2)"
   ]
  },
  {
   "cell_type": "code",
   "execution_count": 14,
   "metadata": {},
   "outputs": [],
   "source": [
    "#X_train"
   ]
  },
  {
   "cell_type": "code",
   "execution_count": 36,
   "metadata": {},
   "outputs": [],
   "source": [
    "from sklearn.model_selection import train_test_split\n",
    "X_train, X_val, Y_train, Y_val = train_test_split(X_train, y_train, test_size = 0.1, random_state=2)"
   ]
  },
  {
   "cell_type": "code",
   "execution_count": 294,
   "metadata": {},
   "outputs": [],
   "source": [
    "# from sklearn.model_selection import train_test_split\n",
    "# # train_split= .8  # percentage of df to use for training\n",
    "# # test_split = .05 # percentage of df to use for test\n",
    "# # note valid_split=1- train_split = test_ split in this case .15\n",
    "# train_df, dummy_df= train_test_split(X_train, y_train)\n",
    "# # dummy_split=test_split/(1.0 - train_split)\n",
    "# # test_df, valid_df=train_test_split(dummy_df, train_split=dummy_split) # note dummy_df is 20% of df"
   ]
  },
  {
   "cell_type": "code",
   "execution_count": 295,
   "metadata": {},
   "outputs": [],
   "source": [
    "# # Reshape and normalize training data\n",
    "# X = dataframe.drop('DR_diagnosis_status', axis =1).values\n",
    "# X = dataframe.drop('Screening_No', axis =1).values\n",
    "# #X_train = trainX / 255.0\n",
    "\n",
    "# y_train = dataframe.DR_diagnosis_status"
   ]
  },
  {
   "cell_type": "code",
   "execution_count": 296,
   "metadata": {},
   "outputs": [],
   "source": [
    "# from sklearn import preprocessing\n",
    "# lb = preprocessing.LabelBinarizer()\n",
    "# y_train = lb.fit_transform(y_train)\n",
    "# #y_test = lb.fit_transform(y_test)"
   ]
  },
  {
   "cell_type": "code",
   "execution_count": 37,
   "metadata": {},
   "outputs": [
    {
     "data": {
      "text/html": [
       "<div>\n",
       "<style scoped>\n",
       "    .dataframe tbody tr th:only-of-type {\n",
       "        vertical-align: middle;\n",
       "    }\n",
       "\n",
       "    .dataframe tbody tr th {\n",
       "        vertical-align: top;\n",
       "    }\n",
       "\n",
       "    .dataframe thead th {\n",
       "        text-align: right;\n",
       "    }\n",
       "</style>\n",
       "<table border=\"1\" class=\"dataframe\">\n",
       "  <thead>\n",
       "    <tr style=\"text-align: right;\">\n",
       "      <th></th>\n",
       "      <th>Age</th>\n",
       "      <th>Height</th>\n",
       "      <th>Weight</th>\n",
       "      <th>WC</th>\n",
       "      <th>BMI</th>\n",
       "      <th>SBP</th>\n",
       "      <th>DBP</th>\n",
       "      <th>Glucose</th>\n",
       "      <th>HbA1c</th>\n",
       "      <th>Sex</th>\n",
       "      <th>DR_diagnosis_status</th>\n",
       "    </tr>\n",
       "  </thead>\n",
       "  <tbody>\n",
       "    <tr>\n",
       "      <th>0</th>\n",
       "      <td>66</td>\n",
       "      <td>157.8</td>\n",
       "      <td>70.7</td>\n",
       "      <td>97.2</td>\n",
       "      <td>28.39</td>\n",
       "      <td>130</td>\n",
       "      <td>84</td>\n",
       "      <td>171</td>\n",
       "      <td>7.5</td>\n",
       "      <td>0</td>\n",
       "      <td>0</td>\n",
       "    </tr>\n",
       "    <tr>\n",
       "      <th>1</th>\n",
       "      <td>51</td>\n",
       "      <td>171.9</td>\n",
       "      <td>65.1</td>\n",
       "      <td>89.2</td>\n",
       "      <td>22.03</td>\n",
       "      <td>140</td>\n",
       "      <td>85</td>\n",
       "      <td>130</td>\n",
       "      <td>6.0</td>\n",
       "      <td>0</td>\n",
       "      <td>0</td>\n",
       "    </tr>\n",
       "    <tr>\n",
       "      <th>2</th>\n",
       "      <td>46</td>\n",
       "      <td>174.6</td>\n",
       "      <td>60.1</td>\n",
       "      <td>81.1</td>\n",
       "      <td>19.71</td>\n",
       "      <td>122</td>\n",
       "      <td>75</td>\n",
       "      <td>242</td>\n",
       "      <td>11.2</td>\n",
       "      <td>0</td>\n",
       "      <td>1</td>\n",
       "    </tr>\n",
       "    <tr>\n",
       "      <th>3</th>\n",
       "      <td>60</td>\n",
       "      <td>169.7</td>\n",
       "      <td>62.7</td>\n",
       "      <td>75.5</td>\n",
       "      <td>21.77</td>\n",
       "      <td>117</td>\n",
       "      <td>69</td>\n",
       "      <td>117</td>\n",
       "      <td>7.9</td>\n",
       "      <td>0</td>\n",
       "      <td>0</td>\n",
       "    </tr>\n",
       "    <tr>\n",
       "      <th>4</th>\n",
       "      <td>45</td>\n",
       "      <td>160.0</td>\n",
       "      <td>73.5</td>\n",
       "      <td>89.5</td>\n",
       "      <td>28.71</td>\n",
       "      <td>144</td>\n",
       "      <td>85</td>\n",
       "      <td>134</td>\n",
       "      <td>7.5</td>\n",
       "      <td>1</td>\n",
       "      <td>0</td>\n",
       "    </tr>\n",
       "    <tr>\n",
       "      <th>...</th>\n",
       "      <td>...</td>\n",
       "      <td>...</td>\n",
       "      <td>...</td>\n",
       "      <td>...</td>\n",
       "      <td>...</td>\n",
       "      <td>...</td>\n",
       "      <td>...</td>\n",
       "      <td>...</td>\n",
       "      <td>...</td>\n",
       "      <td>...</td>\n",
       "      <td>...</td>\n",
       "    </tr>\n",
       "    <tr>\n",
       "      <th>257</th>\n",
       "      <td>69</td>\n",
       "      <td>152.9</td>\n",
       "      <td>72.3</td>\n",
       "      <td>88.0</td>\n",
       "      <td>30.93</td>\n",
       "      <td>139</td>\n",
       "      <td>85</td>\n",
       "      <td>130</td>\n",
       "      <td>7.7</td>\n",
       "      <td>1</td>\n",
       "      <td>0</td>\n",
       "    </tr>\n",
       "    <tr>\n",
       "      <th>258</th>\n",
       "      <td>49</td>\n",
       "      <td>150.9</td>\n",
       "      <td>55.4</td>\n",
       "      <td>79.0</td>\n",
       "      <td>24.33</td>\n",
       "      <td>124</td>\n",
       "      <td>76</td>\n",
       "      <td>236</td>\n",
       "      <td>8.9</td>\n",
       "      <td>1</td>\n",
       "      <td>1</td>\n",
       "    </tr>\n",
       "    <tr>\n",
       "      <th>259</th>\n",
       "      <td>56</td>\n",
       "      <td>163.4</td>\n",
       "      <td>79.5</td>\n",
       "      <td>86.0</td>\n",
       "      <td>29.78</td>\n",
       "      <td>150</td>\n",
       "      <td>79</td>\n",
       "      <td>199</td>\n",
       "      <td>8.1</td>\n",
       "      <td>0</td>\n",
       "      <td>0</td>\n",
       "    </tr>\n",
       "    <tr>\n",
       "      <th>260</th>\n",
       "      <td>73</td>\n",
       "      <td>150.6</td>\n",
       "      <td>55.4</td>\n",
       "      <td>67.0</td>\n",
       "      <td>24.43</td>\n",
       "      <td>120</td>\n",
       "      <td>70</td>\n",
       "      <td>131</td>\n",
       "      <td>7.2</td>\n",
       "      <td>1</td>\n",
       "      <td>0</td>\n",
       "    </tr>\n",
       "    <tr>\n",
       "      <th>261</th>\n",
       "      <td>77</td>\n",
       "      <td>164.9</td>\n",
       "      <td>79.4</td>\n",
       "      <td>80.0</td>\n",
       "      <td>29.20</td>\n",
       "      <td>143</td>\n",
       "      <td>70</td>\n",
       "      <td>124</td>\n",
       "      <td>6.3</td>\n",
       "      <td>0</td>\n",
       "      <td>1</td>\n",
       "    </tr>\n",
       "  </tbody>\n",
       "</table>\n",
       "<p>262 rows × 11 columns</p>\n",
       "</div>"
      ],
      "text/plain": [
       "     Age  Height  Weight    WC    BMI  SBP  DBP  Glucose  HbA1c  Sex  \\\n",
       "0     66   157.8    70.7  97.2  28.39  130   84      171    7.5    0   \n",
       "1     51   171.9    65.1  89.2  22.03  140   85      130    6.0    0   \n",
       "2     46   174.6    60.1  81.1  19.71  122   75      242   11.2    0   \n",
       "3     60   169.7    62.7  75.5  21.77  117   69      117    7.9    0   \n",
       "4     45   160.0    73.5  89.5  28.71  144   85      134    7.5    1   \n",
       "..   ...     ...     ...   ...    ...  ...  ...      ...    ...  ...   \n",
       "257   69   152.9    72.3  88.0  30.93  139   85      130    7.7    1   \n",
       "258   49   150.9    55.4  79.0  24.33  124   76      236    8.9    1   \n",
       "259   56   163.4    79.5  86.0  29.78  150   79      199    8.1    0   \n",
       "260   73   150.6    55.4  67.0  24.43  120   70      131    7.2    1   \n",
       "261   77   164.9    79.4  80.0  29.20  143   70      124    6.3    0   \n",
       "\n",
       "     DR_diagnosis_status  \n",
       "0                      0  \n",
       "1                      0  \n",
       "2                      1  \n",
       "3                      0  \n",
       "4                      0  \n",
       "..                   ...  \n",
       "257                    0  \n",
       "258                    1  \n",
       "259                    0  \n",
       "260                    0  \n",
       "261                    1  \n",
       "\n",
       "[262 rows x 11 columns]"
      ]
     },
     "execution_count": 37,
     "metadata": {},
     "output_type": "execute_result"
    }
   ],
   "source": [
    "dataframe_new"
   ]
  },
  {
   "cell_type": "code",
   "execution_count": 345,
   "metadata": {},
   "outputs": [],
   "source": [
    "#x_train = np.reshape(X_train, (X_train.shape[0],1,X_train.shape[1]))\n",
    "#x_test = np.reshape(x_test, (_test.shape[0],1,x_test.shape[1]))"
   ]
  },
  {
   "cell_type": "code",
   "execution_count": 376,
   "metadata": {},
   "outputs": [],
   "source": [
    "#x_train = X_train.reshape(-1, 235, 1)"
   ]
  },
  {
   "cell_type": "code",
   "execution_count": 17,
   "metadata": {},
   "outputs": [],
   "source": [
    "#x_train = X_train.astype(int)"
   ]
  },
  {
   "cell_type": "code",
   "execution_count": 18,
   "metadata": {},
   "outputs": [],
   "source": [
    "#x_train = np.reshape(X_train, (X_train.shape[0],1,X_train.shape[1]))"
   ]
  },
  {
   "cell_type": "code",
   "execution_count": 19,
   "metadata": {},
   "outputs": [
    {
     "data": {
      "text/plain": [
       "10"
      ]
     },
     "execution_count": 19,
     "metadata": {},
     "output_type": "execute_result"
    }
   ],
   "source": [
    "#X_train.shape[1]"
   ]
  },
  {
   "cell_type": "code",
   "execution_count": 396,
   "metadata": {},
   "outputs": [],
   "source": [
    "# train_generator = train_datagen.flow_from_directory(directory='./data/',\n",
    "#                                                         target_size=(150, 150),\n",
    "#                                                         batch_size=10,\n",
    "#                                                         class_mode='binary')"
   ]
  },
  {
   "cell_type": "code",
   "execution_count": 397,
   "metadata": {},
   "outputs": [],
   "source": [
    "#x_train = np.reshape(X_train, (-1, 235, 10))"
   ]
  },
  {
   "cell_type": "code",
   "execution_count": 38,
   "metadata": {},
   "outputs": [
    {
     "data": {
      "text/plain": [
       "10"
      ]
     },
     "execution_count": 38,
     "metadata": {},
     "output_type": "execute_result"
    }
   ],
   "source": [
    "X_train.shape[1]"
   ]
  },
  {
   "cell_type": "code",
   "execution_count": 43,
   "metadata": {},
   "outputs": [
    {
     "data": {
      "text/plain": [
       "array([[0.23529412, 0.64980392, 0.20823529, ..., 0.41568627, 0.03019608,\n",
       "        0.        ],\n",
       "       [0.24313725, 0.68980392, 0.29686275, ..., 0.66666667, 0.02901961,\n",
       "        0.        ],\n",
       "       [0.16470588, 0.66784314, 0.29294118, ..., 0.25098039, 0.02352941,\n",
       "        0.        ],\n",
       "       ...,\n",
       "       [0.28627451, 0.60392157, 0.22313725, ..., 0.67843137, 0.03098039,\n",
       "        0.00392157],\n",
       "       [0.31764706, 0.65137255, 0.26745098, ..., 0.6       , 0.03137255,\n",
       "        0.00392157],\n",
       "       [0.25098039, 0.57294118, 0.16705882, ..., 0.53333333, 0.02980392,\n",
       "        0.00392157]])"
      ]
     },
     "execution_count": 43,
     "metadata": {},
     "output_type": "execute_result"
    }
   ],
   "source": [
    "X_train"
   ]
  },
  {
   "cell_type": "code",
   "execution_count": 44,
   "metadata": {},
   "outputs": [],
   "source": [
    "x_train = np.reshape(X_train, (X_train.shape[0],1,X_train.shape[1]))"
   ]
  },
  {
   "cell_type": "code",
   "execution_count": 45,
   "metadata": {},
   "outputs": [
    {
     "data": {
      "text/plain": [
       "array([[[0.23529412, 0.64980392, 0.20823529, ..., 0.41568627,\n",
       "         0.03019608, 0.        ]],\n",
       "\n",
       "       [[0.24313725, 0.68980392, 0.29686275, ..., 0.66666667,\n",
       "         0.02901961, 0.        ]],\n",
       "\n",
       "       [[0.16470588, 0.66784314, 0.29294118, ..., 0.25098039,\n",
       "         0.02352941, 0.        ]],\n",
       "\n",
       "       ...,\n",
       "\n",
       "       [[0.28627451, 0.60392157, 0.22313725, ..., 0.67843137,\n",
       "         0.03098039, 0.00392157]],\n",
       "\n",
       "       [[0.31764706, 0.65137255, 0.26745098, ..., 0.6       ,\n",
       "         0.03137255, 0.00392157]],\n",
       "\n",
       "       [[0.25098039, 0.57294118, 0.16705882, ..., 0.53333333,\n",
       "         0.02980392, 0.00392157]]])"
      ]
     },
     "execution_count": 45,
     "metadata": {},
     "output_type": "execute_result"
    }
   ],
   "source": [
    "x_train"
   ]
  },
  {
   "cell_type": "code",
   "execution_count": 53,
   "metadata": {},
   "outputs": [
    {
     "name": "stdout",
     "output_type": "stream",
     "text": [
      "Model: \"sequential_5\"\n",
      "_________________________________________________________________\n",
      " Layer (type)                Output Shape              Param #   \n",
      "=================================================================\n",
      " conv1d_9 (Conv1D)           (None, 215, 6)            1266      \n",
      "                                                                 \n",
      " batch_normalization_8 (Bat  (None, 215, 6)            24        \n",
      " chNormalization)                                                \n",
      "                                                                 \n",
      " max_pooling1d_8 (MaxPoolin  (None, 107, 6)            0         \n",
      " g1D)                                                            \n",
      "                                                                 \n",
      " conv1d_10 (Conv1D)          (None, 103, 16)           496       \n",
      "                                                                 \n",
      " batch_normalization_9 (Bat  (None, 103, 16)           64        \n",
      " chNormalization)                                                \n",
      "                                                                 \n",
      " max_pooling1d_9 (MaxPoolin  (None, 51, 16)            0         \n",
      " g1D)                                                            \n",
      "                                                                 \n",
      " flatten_4 (Flatten)         (None, 816)               0         \n",
      "                                                                 \n",
      " dense_8 (Dense)             (None, 120)               98040     \n",
      "                                                                 \n",
      " dense_9 (Dense)             (None, 5)                 605       \n",
      "                                                                 \n",
      "=================================================================\n",
      "Total params: 100495 (392.56 KB)\n",
      "Trainable params: 100451 (392.39 KB)\n",
      "Non-trainable params: 44 (176.00 Byte)\n",
      "_________________________________________________________________\n"
     ]
    }
   ],
   "source": [
    "from tensorflow.keras.layers import BatchNormalization\n",
    "from tensorflow.keras import optimizers, losses\n",
    "from tensorflow.keras.optimizers import RMSprop\n",
    "\n",
    "model = keras.models.Sequential()\n",
    "#model.add(tf.keras.layers.InputLayer())\n",
    "model.add(Conv1D(filters=6, kernel_size=21, strides=1, padding='valid', activation='relu',input_shape=(235, 10),kernel_initializer=keras.initializers.he_normal()))\n",
    "model.add(BatchNormalization()) #what is the purpose of this!\n",
    "model.add(MaxPooling1D(pool_size=2, strides=2, padding='valid'))\n",
    "model.add(Conv1D(filters=16, kernel_size=5, strides=1, padding='valid',activation='relu'))\n",
    "model.add(BatchNormalization())\n",
    "model.add(MaxPooling1D(pool_size=2, strides=2, padding='valid'))\n",
    "model.add(Flatten())\n",
    "model.add(Dense(120, activation='relu'))\n",
    "model.add(Dense(5, activation='sigmoid'))\n",
    "# model.add(Dense(84))\n",
    "# model.add(Dense(5, activation='softmax'))\n",
    "# model.add(Dense(10))\n",
    "\n",
    "model.summary()"
   ]
  },
  {
   "cell_type": "code",
   "execution_count": null,
   "metadata": {},
   "outputs": [],
   "source": []
  },
  {
   "cell_type": "code",
   "execution_count": 54,
   "metadata": {},
   "outputs": [],
   "source": [
    "model.compile(loss= 'binary_crossentropy' , optimizer= RMSprop(learning_rate=0.001), metrics=[ 'accuracy' ])"
   ]
  },
  {
   "cell_type": "code",
   "execution_count": 55,
   "metadata": {},
   "outputs": [
    {
     "data": {
      "text/plain": [
       "(235, 1, 10)"
      ]
     },
     "execution_count": 55,
     "metadata": {},
     "output_type": "execute_result"
    }
   ],
   "source": [
    "x_train.shape"
   ]
  },
  {
   "cell_type": "code",
   "execution_count": 49,
   "metadata": {},
   "outputs": [],
   "source": [
    "#x_train = x_train.reshape(-1, 235, 10)"
   ]
  },
  {
   "cell_type": "code",
   "execution_count": 426,
   "metadata": {},
   "outputs": [
    {
     "data": {
      "text/plain": [
       "2350"
      ]
     },
     "execution_count": 426,
     "metadata": {},
     "output_type": "execute_result"
    }
   ],
   "source": [
    "#x_train.size"
   ]
  },
  {
   "cell_type": "code",
   "execution_count": 51,
   "metadata": {},
   "outputs": [
    {
     "name": "stdout",
     "output_type": "stream",
     "text": [
      "Epoch 1/50\n"
     ]
    },
    {
     "ename": "ValueError",
     "evalue": "in user code:\n\n    File \"C:\\Users\\wlgus\\anaconda3\\Lib\\site-packages\\keras\\src\\engine\\training.py\", line 1338, in train_function  *\n        return step_function(self, iterator)\n    File \"C:\\Users\\wlgus\\anaconda3\\Lib\\site-packages\\keras\\src\\engine\\training.py\", line 1322, in step_function  **\n        outputs = model.distribute_strategy.run(run_step, args=(data,))\n    File \"C:\\Users\\wlgus\\anaconda3\\Lib\\site-packages\\keras\\src\\engine\\training.py\", line 1303, in run_step  **\n        outputs = model.train_step(data)\n    File \"C:\\Users\\wlgus\\anaconda3\\Lib\\site-packages\\keras\\src\\engine\\training.py\", line 1080, in train_step\n        y_pred = self(x, training=True)\n    File \"C:\\Users\\wlgus\\anaconda3\\Lib\\site-packages\\keras\\src\\utils\\traceback_utils.py\", line 70, in error_handler\n        raise e.with_traceback(filtered_tb) from None\n    File \"C:\\Users\\wlgus\\anaconda3\\Lib\\site-packages\\keras\\src\\engine\\input_spec.py\", line 298, in assert_input_compatibility\n        raise ValueError(\n\n    ValueError: Input 0 of layer \"sequential_3\" is incompatible with the layer: expected shape=(None, 235, 10), found shape=(None, 1, 10)\n",
     "output_type": "error",
     "traceback": [
      "\u001b[1;31m---------------------------------------------------------------------------\u001b[0m",
      "\u001b[1;31mValueError\u001b[0m                                Traceback (most recent call last)",
      "Cell \u001b[1;32mIn[51], line 1\u001b[0m\n\u001b[1;32m----> 1\u001b[0m model\u001b[38;5;241m.\u001b[39mfit(x_train, Y_train, epochs \u001b[38;5;241m=\u001b[39m \u001b[38;5;241m50\u001b[39m)\n",
      "File \u001b[1;32m~\\anaconda3\\Lib\\site-packages\\keras\\src\\utils\\traceback_utils.py:70\u001b[0m, in \u001b[0;36mfilter_traceback.<locals>.error_handler\u001b[1;34m(*args, **kwargs)\u001b[0m\n\u001b[0;32m     67\u001b[0m     filtered_tb \u001b[38;5;241m=\u001b[39m _process_traceback_frames(e\u001b[38;5;241m.\u001b[39m__traceback__)\n\u001b[0;32m     68\u001b[0m     \u001b[38;5;66;03m# To get the full stack trace, call:\u001b[39;00m\n\u001b[0;32m     69\u001b[0m     \u001b[38;5;66;03m# `tf.debugging.disable_traceback_filtering()`\u001b[39;00m\n\u001b[1;32m---> 70\u001b[0m     \u001b[38;5;28;01mraise\u001b[39;00m e\u001b[38;5;241m.\u001b[39mwith_traceback(filtered_tb) \u001b[38;5;28;01mfrom\u001b[39;00m \u001b[38;5;28;01mNone\u001b[39;00m\n\u001b[0;32m     71\u001b[0m \u001b[38;5;28;01mfinally\u001b[39;00m:\n\u001b[0;32m     72\u001b[0m     \u001b[38;5;28;01mdel\u001b[39;00m filtered_tb\n",
      "File \u001b[1;32m~\\AppData\\Local\\Temp\\__autograph_generated_filerzo6faoy.py:15\u001b[0m, in \u001b[0;36mouter_factory.<locals>.inner_factory.<locals>.tf__train_function\u001b[1;34m(iterator)\u001b[0m\n\u001b[0;32m     13\u001b[0m \u001b[38;5;28;01mtry\u001b[39;00m:\n\u001b[0;32m     14\u001b[0m     do_return \u001b[38;5;241m=\u001b[39m \u001b[38;5;28;01mTrue\u001b[39;00m\n\u001b[1;32m---> 15\u001b[0m     retval_ \u001b[38;5;241m=\u001b[39m ag__\u001b[38;5;241m.\u001b[39mconverted_call(ag__\u001b[38;5;241m.\u001b[39mld(step_function), (ag__\u001b[38;5;241m.\u001b[39mld(\u001b[38;5;28mself\u001b[39m), ag__\u001b[38;5;241m.\u001b[39mld(iterator)), \u001b[38;5;28;01mNone\u001b[39;00m, fscope)\n\u001b[0;32m     16\u001b[0m \u001b[38;5;28;01mexcept\u001b[39;00m:\n\u001b[0;32m     17\u001b[0m     do_return \u001b[38;5;241m=\u001b[39m \u001b[38;5;28;01mFalse\u001b[39;00m\n",
      "\u001b[1;31mValueError\u001b[0m: in user code:\n\n    File \"C:\\Users\\wlgus\\anaconda3\\Lib\\site-packages\\keras\\src\\engine\\training.py\", line 1338, in train_function  *\n        return step_function(self, iterator)\n    File \"C:\\Users\\wlgus\\anaconda3\\Lib\\site-packages\\keras\\src\\engine\\training.py\", line 1322, in step_function  **\n        outputs = model.distribute_strategy.run(run_step, args=(data,))\n    File \"C:\\Users\\wlgus\\anaconda3\\Lib\\site-packages\\keras\\src\\engine\\training.py\", line 1303, in run_step  **\n        outputs = model.train_step(data)\n    File \"C:\\Users\\wlgus\\anaconda3\\Lib\\site-packages\\keras\\src\\engine\\training.py\", line 1080, in train_step\n        y_pred = self(x, training=True)\n    File \"C:\\Users\\wlgus\\anaconda3\\Lib\\site-packages\\keras\\src\\utils\\traceback_utils.py\", line 70, in error_handler\n        raise e.with_traceback(filtered_tb) from None\n    File \"C:\\Users\\wlgus\\anaconda3\\Lib\\site-packages\\keras\\src\\engine\\input_spec.py\", line 298, in assert_input_compatibility\n        raise ValueError(\n\n    ValueError: Input 0 of layer \"sequential_3\" is incompatible with the layer: expected shape=(None, 235, 10), found shape=(None, 1, 10)\n"
     ]
    }
   ],
   "source": [
    "model.fit(x_train, Y_train, epochs = 50)"
   ]
  },
  {
   "cell_type": "code",
   "execution_count": null,
   "metadata": {},
   "outputs": [],
   "source": []
  },
  {
   "cell_type": "code",
   "execution_count": null,
   "metadata": {},
   "outputs": [],
   "source": []
  }
 ],
 "metadata": {
  "accelerator": "GPU",
  "colab": {
   "collapsed_sections": [],
   "name": "C1_W4_Lab_1_image_generator_no_validation.ipynb",
   "private_outputs": true,
   "provenance": []
  },
  "kernelspec": {
   "display_name": "Python 3 (ipykernel)",
   "language": "python",
   "name": "python3"
  },
  "language_info": {
   "codemirror_mode": {
    "name": "ipython",
    "version": 3
   },
   "file_extension": ".py",
   "mimetype": "text/x-python",
   "name": "python",
   "nbconvert_exporter": "python",
   "pygments_lexer": "ipython3",
   "version": "3.11.4"
  }
 },
 "nbformat": 4,
 "nbformat_minor": 1
}
